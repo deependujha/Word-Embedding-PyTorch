{
 "cells": [
  {
   "cell_type": "code",
   "execution_count": 8,
   "metadata": {},
   "outputs": [],
   "source": [
    "from torchtext.vocab import GloVe, vocab\n",
    "\n",
    "my_vec = GloVe(name=\"6B\", dim=50)\n",
    "my_vocab = vocab(my_vec.stoi)"
   ]
  },
  {
   "cell_type": "markdown",
   "metadata": {},
   "source": [
    "## my_vec.stoi\n",
    "\n",
    "```python\n",
    "    {\n",
    "    'energy': 634,\n",
    "    'shot': 635,\n",
    "    'short': 636,\n",
    "    'africa': 637,\n",
    "    'key': 638,\n",
    "    'red': 639,\n",
    "    }\n",
    "```"
   ]
  },
  {
   "cell_type": "code",
   "execution_count": 12,
   "metadata": {},
   "outputs": [
    {
     "data": {
      "text/plain": [
       "399999"
      ]
     },
     "execution_count": 12,
     "metadata": {},
     "output_type": "execute_result"
    }
   ],
   "source": [
    "my_vocab = vocab(my_vec.stoi)\n",
    "\n",
    "len(my_vocab)"
   ]
  },
  {
   "cell_type": "markdown",
   "metadata": {},
   "source": [
    "---\n",
    "\n",
    "## Embedding Vector"
   ]
  },
  {
   "cell_type": "code",
   "execution_count": 13,
   "metadata": {},
   "outputs": [
    {
     "data": {
      "text/plain": [
       "torch.Size([400000, 50])"
      ]
     },
     "execution_count": 13,
     "metadata": {},
     "output_type": "execute_result"
    }
   ],
   "source": [
    "my_vec.vectors.shape"
   ]
  },
  {
   "cell_type": "code",
   "execution_count": 14,
   "metadata": {},
   "outputs": [],
   "source": [
    "from torchtext.vocab import GloVe\n",
    "import torch.nn\n",
    "\n",
    "# set freeze to false if you want them to be trainable\n",
    "my_embeddings = torch.nn.Embedding.from_pretrained(my_vec.vectors, freeze=True)"
   ]
  },
  {
   "cell_type": "markdown",
   "metadata": {},
   "source": [
    "---\n",
    "\n",
    "## Here's more complete code:\n",
    "\n",
    "```python\n",
    "from torchtext.vocab import GloVe, vocab\n",
    "from torchtext.datasets import AG_NEWS\n",
    "from torchtext.data.utils import get_tokenizer\n",
    "import torch\n",
    "import torch.nn as nn\n",
    "\n",
    "#define your model that accepts pretrained embeddings \n",
    "class TextClassificationModel(nn.Module):\n",
    "\n",
    "    def __init__(self, pretrained_embeddings, num_class, freeze_embeddings = False):\n",
    "        super(TextClassificationModel, self).__init__()\n",
    "        self.embedding = nn.EmbeddingBag.from_pretrained(pretrained_embeddings, freeze = freeze_embeddings, sparse=True)\n",
    "        self.fc = nn.Linear(pretrained_embeddings.shape[1], num_class)\n",
    "        self.init_weights()\n",
    "\n",
    "    def init_weights(self):\n",
    "        initrange = 0.5\n",
    "        self.fc.weight.data.uniform_(-initrange, initrange)\n",
    "        self.fc.bias.data.zero_()\n",
    "\n",
    "    def forward(self, text, offsets):\n",
    "        embedded = self.embedding(text, offsets)\n",
    "        return self.fc(embedded)\n",
    "\n",
    "train_iter = AG_NEWS(split = 'train')\n",
    "num_class = len(set([label for (label, _) in train_iter]))\n",
    "unk_token = \"<unk>\"\n",
    "unk_index = 0\n",
    "glove_vectors = GloVe()\n",
    "glove_vocab = vocab(glove_vectors.stoi)\n",
    "glove_vocab.insert_token(\"<unk>\",unk_index)\n",
    "#this is necessary otherwise it will throw runtime error if OOV token is queried \n",
    "glove_vocab.set_default_index(unk_index)\n",
    "pretrained_embeddings = glove_vectors.vectors\n",
    "pretrained_embeddings = torch.cat((torch.zeros(1,pretrained_embeddings.shape[1]),pretrained_embeddings))\n",
    "\n",
    "#instantiate model with pre-trained glove vectors\n",
    "glove_model = TextClassificationModel(pretrained_embeddings, num_class)\n",
    "\n",
    "\n",
    "tokenizer = get_tokenizer(\"basic_english\")\n",
    "train_iter = AG_NEWS(split = 'train')\n",
    "example_text = next(train_iter)[1]\n",
    "tokens = tokenizer(example_text)\n",
    "indices = glove_vocab(tokens)\n",
    "text_input = torch.tensor(indices)\n",
    "offset_input = torch.tensor([0])\n",
    "\n",
    "model_output = glove_model(text_input, offset_input)\n",
    "```"
   ]
  }
 ],
 "metadata": {
  "kernelspec": {
   "display_name": "Python 3",
   "language": "python",
   "name": "python3"
  },
  "language_info": {
   "codemirror_mode": {
    "name": "ipython",
    "version": 3
   },
   "file_extension": ".py",
   "mimetype": "text/x-python",
   "name": "python",
   "nbconvert_exporter": "python",
   "pygments_lexer": "ipython3",
   "version": "3.9.6"
  }
 },
 "nbformat": 4,
 "nbformat_minor": 2
}
